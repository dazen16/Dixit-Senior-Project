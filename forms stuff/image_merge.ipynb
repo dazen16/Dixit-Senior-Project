{
  "cells": [
    {
      "cell_type": "code",
      "source": [
        "# notebook to combine a bunch of cards together into one image for surveys"
      ],
      "metadata": {
        "id": "zQ9gpivrdC5Q"
      },
      "execution_count": null,
      "outputs": []
    },
    {
      "cell_type": "code",
      "execution_count": null,
      "metadata": {
        "colab": {
          "base_uri": "https://localhost:8080/"
        },
        "id": "PQiv8RxhR8dB",
        "outputId": "78d0e4dd-ab59-41c8-c7eb-bc40dd99ed65"
      },
      "outputs": [
        {
          "output_type": "stream",
          "name": "stdout",
          "text": [
            "8.4.0\n"
          ]
        },
        {
          "output_type": "stream",
          "name": "stderr",
          "text": [
            "<ipython-input-1-dec8f6a0f3fc>:2: DeprecationWarning: PILLOW_VERSION is deprecated and will be removed in Pillow 9 (2022-01-02). Use __version__ instead.\n",
            "  print(PIL.PILLOW_VERSION)\n"
          ]
        }
      ],
      "source": [
        "import PIL\n",
        "print(PIL.PILLOW_VERSION)\n",
        "\n",
        "from PIL import Image"
      ]
    },
    {
      "cell_type": "code",
      "execution_count": null,
      "metadata": {
        "id": "GhS4KlU3SBjk"
      },
      "outputs": [],
      "source": [
        "# https://www.tutorialspoint.com/python_pillow/Python_pillow_merging_images.htm"
      ]
    },
    {
      "cell_type": "code",
      "execution_count": null,
      "metadata": {
        "id": "mfl_73chR40M"
      },
      "outputs": [],
      "source": [
        "\"\"\"\n",
        "from PIL import Image\n",
        "#Read the two images\n",
        "image1 = Image.open('1.jpg')\n",
        "# image1.show()\n",
        "image2 = Image.open('2.jpg')\n",
        "# image2.show()\n",
        "#resize, first image\n",
        "image1 = image1.resize((1000, 1500))\n",
        "# image1.show()\n",
        "image2 = image2.resize((1000, 1500))\n",
        "# image2.show()\n",
        "image1_size = image1.size\n",
        "image2_size = image2.size\n",
        "new_image = Image.new('RGB',(2*image1_size[0], image1_size[1]), (250,250,250))\n",
        "new_image.paste(image1,(0,0))\n",
        "new_image.paste(image2,(image1_size[0],0))\n",
        "new_image.save(\"merged_image.jpg\",\"JPEG\")\n",
        "# new_image.show()\n",
        "\n",
        "new_image.save(\"ex.jpg\",\"JPEG\")\n",
        "\"\"\""
      ]
    },
    {
      "cell_type": "code",
      "source": [
        "import pandas as pd\n",
        "import requests\n",
        "\n",
        "url = 'https://docs.google.com/spreadsheets/d/1AWHOzyVWws-VSe5JsMb4gmJHHB5vCMy0OXbPH4pPjwA/edit?usp=sharing'\n",
        "\n",
        "r = requests.get(f'https://docs.google.com/spreadsheet/ccc?key=' + url.split('/')[-2] + '&output=csv')\n",
        "open('dataset.csv', 'wb').write(r.content)\n",
        "df = pd.read_csv('dataset.csv')"
      ],
      "metadata": {
        "id": "Zn9gislvay6l"
      },
      "execution_count": null,
      "outputs": []
    },
    {
      "cell_type": "code",
      "source": [
        "!mkdir combinedImages"
      ],
      "metadata": {
        "id": "B-FanMas3GnJ"
      },
      "execution_count": null,
      "outputs": []
    },
    {
      "cell_type": "code",
      "source": [
        "from pandas.compat import numpy\n",
        "\n",
        "def combineImages(index, row):\n",
        "    numPlayers = row[\"PLAYERS\"]\n",
        "    cards = [\"C1_CARD\", \"C2_CARD\", \"C3_CARD\", \"C4_CARD\"]\n",
        "    if numPlayers > 4:\n",
        "        cards.append(\"C5_CARD\")\n",
        "    if numPlayers > 5:\n",
        "        cards.append(\"C6_CARD\")\n",
        "\n",
        "    card_names = [str(int(card)) + \".jpg\" for card in row[cards]]\n",
        "\n",
        "    card_images = [Image.open(card) for card in card_names]\n",
        "\n",
        "    card_images = [image.resize((1000, 1500)) for image in card_images]\n",
        "\n",
        "    size = card_images[0].size\n",
        "\n",
        "    new_image = Image.new('RGB',(numPlayers * size[0], size[1]), (250,250,250))\n",
        "\n",
        "    for i in range(numPlayers):\n",
        "        new_image.paste(card_images[i],(0 + 1000 * i, 0))\n",
        "        # new_image.paste(image2,(image1_size[0],0))\n",
        "    # new_image.show()\n",
        "    new_image.save(f\"/content/combinedImages/row\" + str(index) + \".jpg\",\"JPEG\")\n",
        "    # return card_images"
      ],
      "metadata": {
        "id": "WabUabjwbHth"
      },
      "execution_count": null,
      "outputs": []
    },
    {
      "cell_type": "code",
      "source": [
        "\"\"\"\n",
        "for index, row in df.iterrows():\n",
        "    if index >= 0 and index < 10: # 5000 and index < 20000:\n",
        "        results = combineImages(index, row)\n",
        "\"\"\""
      ],
      "metadata": {
        "id": "rB-G4rUC2ZaR"
      },
      "execution_count": null,
      "outputs": []
    },
    {
      "cell_type": "code",
      "source": [
        "import random\n",
        "i = 0\n",
        "\n",
        "while i < 1:\n",
        "    r = random.randint(0, 23309)\n",
        "    row = df.iloc[r]\n",
        "    if row[\"PLAYERS\"] == 4:\n",
        "        combineImages(r, row)\n",
        "        i += 1"
      ],
      "metadata": {
        "id": "37sgRcP7Uwk-"
      },
      "execution_count": null,
      "outputs": []
    },
    {
      "cell_type": "code",
      "source": [
        "from google.colab import files\n",
        "import shutil\n",
        "\n",
        "shutil.make_archive(\"combinedImages\", 'zip', \"combinedImages\")\n",
        "files.download(\"combinedImages.zip\")"
      ],
      "metadata": {
        "colab": {
          "base_uri": "https://localhost:8080/",
          "height": 17
        },
        "id": "BqXctCMs3unU",
        "outputId": "ff6b1043-9173-4582-b0f0-819be42c7ac5"
      },
      "execution_count": null,
      "outputs": [
        {
          "output_type": "display_data",
          "data": {
            "text/plain": [
              "<IPython.core.display.Javascript object>"
            ],
            "application/javascript": [
              "\n",
              "    async function download(id, filename, size) {\n",
              "      if (!google.colab.kernel.accessAllowed) {\n",
              "        return;\n",
              "      }\n",
              "      const div = document.createElement('div');\n",
              "      const label = document.createElement('label');\n",
              "      label.textContent = `Downloading \"${filename}\": `;\n",
              "      div.appendChild(label);\n",
              "      const progress = document.createElement('progress');\n",
              "      progress.max = size;\n",
              "      div.appendChild(progress);\n",
              "      document.body.appendChild(div);\n",
              "\n",
              "      const buffers = [];\n",
              "      let downloaded = 0;\n",
              "\n",
              "      const channel = await google.colab.kernel.comms.open(id);\n",
              "      // Send a message to notify the kernel that we're ready.\n",
              "      channel.send({})\n",
              "\n",
              "      for await (const message of channel.messages) {\n",
              "        // Send a message to notify the kernel that we're ready.\n",
              "        channel.send({})\n",
              "        if (message.buffers) {\n",
              "          for (const buffer of message.buffers) {\n",
              "            buffers.push(buffer);\n",
              "            downloaded += buffer.byteLength;\n",
              "            progress.value = downloaded;\n",
              "          }\n",
              "        }\n",
              "      }\n",
              "      const blob = new Blob(buffers, {type: 'application/binary'});\n",
              "      const a = document.createElement('a');\n",
              "      a.href = window.URL.createObjectURL(blob);\n",
              "      a.download = filename;\n",
              "      div.appendChild(a);\n",
              "      a.click();\n",
              "      div.remove();\n",
              "    }\n",
              "  "
            ]
          },
          "metadata": {}
        },
        {
          "output_type": "display_data",
          "data": {
            "text/plain": [
              "<IPython.core.display.Javascript object>"
            ],
            "application/javascript": [
              "download(\"download_6d9c0084-7841-4a22-8dbc-ee21c8791c5b\", \"combinedImages.zip\", 653962)"
            ]
          },
          "metadata": {}
        }
      ]
    },
    {
      "cell_type": "code",
      "source": [
        "!cd \"/content/combinedImages\""
      ],
      "metadata": {
        "id": "LWbY33MzUJPp"
      },
      "execution_count": null,
      "outputs": []
    },
    {
      "cell_type": "code",
      "source": [
        "# import OS module\n",
        "import os\n",
        "\n",
        "# Get the list of all files and directories\n",
        "path = \"/content/combinedImages\"\n",
        "dir_list = os.listdir(path)\n",
        "\n",
        "print(\"Files and directories in '\", path, \"' :\")\n",
        "\n",
        "# prints all files\n",
        "print(dir_list)"
      ],
      "metadata": {
        "colab": {
          "base_uri": "https://localhost:8080/"
        },
        "id": "TNymamlWUOly",
        "outputId": "3ea47695-6e81-4457-a25d-fb3c7cfbabb2"
      },
      "execution_count": null,
      "outputs": [
        {
          "output_type": "stream",
          "name": "stdout",
          "text": [
            "Files and directories in ' /content/combinedImages ' :\n",
            "['row17906.jpg']\n"
          ]
        }
      ]
    },
    {
      "cell_type": "code",
      "source": [
        "nums = []\n",
        "for row in dir_list:\n",
        "    row = row[3:]\n",
        "    row = row[:-4]\n",
        "    print(row)\n",
        "    nums.append(int(row))"
      ],
      "metadata": {
        "colab": {
          "base_uri": "https://localhost:8080/"
        },
        "id": "WNbTgoBgUYvA",
        "outputId": "cf807a8a-a875-4d24-e712-61fa62c4572b"
      },
      "execution_count": null,
      "outputs": [
        {
          "output_type": "stream",
          "name": "stdout",
          "text": [
            "12638\n",
            "16322\n",
            "895\n",
            "2077\n",
            "9980\n",
            "20328\n",
            "20055\n",
            "5707\n",
            "16083\n",
            "23303\n",
            "12539\n",
            "720\n",
            "3325\n",
            "9162\n",
            "19918\n"
          ]
        }
      ]
    },
    {
      "cell_type": "code",
      "source": [
        "for num in nums:\n",
        "    # print(\"row:\", num, \"target:\", df.iloc[num][\"TARGET\"], \"desc:\", df.iloc[num][\"DESCRIPTION\"])\n",
        "    print(df.iloc[num][\"TARGET\"])\n"
      ],
      "metadata": {
        "colab": {
          "base_uri": "https://localhost:8080/"
        },
        "id": "QOqZLoUCUom8",
        "outputId": "8b976c8c-b409-47b3-ad3f-236f28867eef"
      },
      "execution_count": null,
      "outputs": [
        {
          "output_type": "stream",
          "name": "stdout",
          "text": [
            "32\n",
            "44\n",
            "45\n",
            "48\n",
            "22\n",
            "36\n",
            "10\n",
            "7\n",
            "77\n",
            "3\n",
            "15\n",
            "22\n",
            "63\n",
            "5\n",
            "3\n"
          ]
        }
      ]
    },
    {
      "cell_type": "code",
      "source": [
        "# Code to get question info\n",
        "\n",
        "q = \"12638 16322 895 2077 9980 20328 20055 5707 16083 23303 12539 720 3325 9162 19918\"\n",
        "\n",
        "q = q.split()\n",
        "\n",
        "q = [int(ques) for ques in q]\n",
        "q.sort()"
      ],
      "metadata": {
        "id": "744ruEMB1Tc_"
      },
      "execution_count": null,
      "outputs": []
    },
    {
      "cell_type": "code",
      "source": [
        "i = 1\n",
        "q = [17906]\n",
        "for rowNum in q:\n",
        "    row = df.iloc[rowNum]\n",
        "\n",
        "    imageNum = 1\n",
        "\n",
        "    if row[\"TARGET\"] == row[\"C1_CARD\"]:\n",
        "        imageNum = 1\n",
        "    elif row[\"TARGET\"] == row[\"C2_CARD\"]:\n",
        "        imageNum = 2\n",
        "    elif row[\"TARGET\"] == row[\"C3_CARD\"]:\n",
        "        imageNum = 3\n",
        "    else:\n",
        "        imageNum = 4\n",
        "\n",
        "    print(\"Q\" + str(i) + \":\", \"Row Num on csv:\", rowNum + 2, \", Target:\", row[\"TARGET\"], \", Card\", imageNum, \"on image, \" + \"Prompt: \", \"\\\"\" + row[\"DESCRIPTION\"] + \"\\\"\")\n",
        "\n",
        "    i += 1"
      ],
      "metadata": {
        "colab": {
          "base_uri": "https://localhost:8080/"
        },
        "id": "cn6N0Nhf1uM9",
        "outputId": "377a7908-5b99-4ca9-ab56-a546e71ce6c1"
      },
      "execution_count": null,
      "outputs": [
        {
          "output_type": "stream",
          "name": "stdout",
          "text": [
            "Q1: Row Num on csv: 17908 , Target: 10 , Card 1 on image, Prompt:  \"It'll be the death of me\"\n"
          ]
        }
      ]
    }
  ],
  "metadata": {
    "colab": {
      "provenance": []
    },
    "kernelspec": {
      "display_name": "Python 3",
      "name": "python3"
    },
    "language_info": {
      "name": "python"
    }
  },
  "nbformat": 4,
  "nbformat_minor": 0
}