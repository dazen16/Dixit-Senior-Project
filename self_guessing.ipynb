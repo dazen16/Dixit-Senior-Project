{
  "cells": [
    {
      "cell_type": "markdown",
      "metadata": {
        "id": "JbxKRkfo-uba"
      },
      "source": [
        "Note: Must have uploaded images of cards"
      ]
    },
    {
      "cell_type": "code",
      "execution_count": null,
      "metadata": {
        "id": "_ECpM8VJdd2E"
      },
      "outputs": [],
      "source": [
        "# Allows user to guess what card matches the given prompt"
      ]
    },
    {
      "cell_type": "code",
      "execution_count": null,
      "metadata": {
        "id": "pf1YB67l-oVz"
      },
      "outputs": [],
      "source": [
        "import PIL\n",
        "from PIL import Image\n",
        "\n",
        "import pandas as pd\n",
        "import requests\n",
        "\n",
        "# Reading in CSV of cards\n",
        "url = 'https://docs.google.com/spreadsheets/d/1AWHOzyVWws-VSe5JsMb4gmJHHB5vCMy0OXbPH4pPjwA/edit?usp=sharing'\n",
        "\n",
        "r = requests.get(f'https://docs.google.com/spreadsheet/ccc?key=' + url.split('/')[-2] + '&output=csv')\n",
        "open('dataset.csv', 'wb').write(r.content)\n",
        "df = pd.read_csv('dataset.csv')"
      ]
    },
    {
      "cell_type": "code",
      "execution_count": null,
      "metadata": {
        "id": "DT4zdaa8X0Sa"
      },
      "outputs": [],
      "source": [
        "# Reading in CSV of GPT prompts\n",
        "url = 'https://docs.google.com/spreadsheets/d/1cPBBYhOHMSFVZDeXte4dau2R5iFhHiyc_LuMoj7TG_c/edit?usp=sharing'\n",
        "\n",
        "r = requests.get(f'https://docs.google.com/spreadsheet/ccc?key=' + url.split('/')[-2] + '&output=csv')\n",
        "open('dataset.csv', 'wb').write(r.content)\n",
        "gptPrompts = pd.read_csv('dataset.csv')\n",
        "gptPrompts.set_index('Card', inplace=True)"
      ]
    },
    {
      "cell_type": "code",
      "execution_count": null,
      "metadata": {
        "id": "ARG-JGHI-4NF"
      },
      "outputs": [],
      "source": [
        "def combineImages(index, row):\n",
        "    numPlayers = row[\"PLAYERS\"]\n",
        "    cards = [\"C1_CARD\", \"C2_CARD\", \"C3_CARD\", \"C4_CARD\"]\n",
        "    if numPlayers > 4:\n",
        "        cards.append(\"C5_CARD\")\n",
        "    if numPlayers > 5:\n",
        "        cards.append(\"C6_CARD\")\n",
        "\n",
        "    card_names = [str(int(card)) + \".jpg\" for card in row[cards]]\n",
        "\n",
        "    card_images = [Image.open(card) for card in card_names]\n",
        "\n",
        "    card_images = [image.resize((1000, 1500)) for image in card_images]\n",
        "\n",
        "    size = card_images[0].size\n",
        "\n",
        "    new_image = Image.new('RGB',(numPlayers * size[0], size[1]), (250,250,250))\n",
        "\n",
        "    for i in range(numPlayers):\n",
        "        new_image.paste(card_images[i],(0 + 1000 * i, 0))\n",
        "\n",
        "    return new_image"
      ]
    },
    {
      "cell_type": "code",
      "execution_count": null,
      "metadata": {
        "id": "9go1PcR9DB4g"
      },
      "outputs": [],
      "source": [
        "def getCardLoc(row):\n",
        "    imageNum = 1\n",
        "\n",
        "    if row[\"TARGET\"] == row[\"C1_CARD\"]:\n",
        "        imageNum = 1\n",
        "    elif row[\"TARGET\"] == row[\"C2_CARD\"]:\n",
        "        imageNum = 2\n",
        "    elif row[\"TARGET\"] == row[\"C3_CARD\"]:\n",
        "        imageNum = 3\n",
        "    else:\n",
        "        imageNum = 4\n",
        "    return imageNum"
      ]
    },
    {
      "cell_type": "markdown",
      "metadata": {
        "id": "o2sXrlKJ_mAM"
      },
      "source": [
        "Generate images and guess"
      ]
    },
    {
      "cell_type": "code",
      "execution_count": null,
      "metadata": {
        "id": "yP-YNTJESB0-"
      },
      "outputs": [],
      "source": [
        "guesses = pd.DataFrame(columns=['rowNum','target', 'prompt', 'location','guess', 'correct'])"
      ]
    },
    {
      "cell_type": "code",
      "execution_count": null,
      "metadata": {
        "colab": {
          "base_uri": "https://localhost:8080/",
          "height": 4569
        },
        "id": "A35O9e1f_ltj",
        "outputId": "3eba8f25-2693-4cc0-e281-cadcb05cebd9"
      },
      "outputs": [],
      "source": [
        "import random\n",
        "import time\n",
        "i = 0\n",
        "\n",
        "while True:\n",
        "    r = random.randint(0, 23309)\n",
        "    row = df.iloc[r]\n",
        "    if row[\"PLAYERS\"] == 4:\n",
        "        print(\"Please wait 10 seconds for the next prompt and image to appear\")\n",
        "        correct = getCardLoc(row)\n",
        "\n",
        "        curImage = combineImages(r, row)\n",
        "        curImage.show()\n",
        "\n",
        "        prompt = gptPrompts.loc[row[\"TARGET\"]][\"Prompt\"]\n",
        "        print(\"Prompt:\", prompt)\n",
        "        time.sleep(10) # Input seems to get called before image is shown, so sleep to make sure image is shown\n",
        "        guess = input('What card matches the prompt best? ')\n",
        "        correct = getCardLoc(row)\n",
        "\n",
        "        print(\"The correct answer was: \", correct)\n",
        "\n",
        "        new_guess = { 'rowNum': r, 'target': row[\"TARGET\"], 'prompt':prompt, 'location': correct, 'guess': guess, 'correct': 1 if int(guess) == correct else 0}\n",
        "        guesses.loc[len(guesses)] = new_guess\n",
        "\n",
        "        keepGuessing = input(\"Enter y to go again, n to stop: \")\n",
        "\n",
        "        if keepGuessing == \"y\":\n",
        "            continue\n",
        "        else:\n",
        "            break\n",
        "\n",
        "guesses"
      ]
    }
  ],
  "metadata": {
    "colab": {
      "provenance": []
    },
    "kernelspec": {
      "display_name": "Python 3",
      "name": "python3"
    },
    "language_info": {
      "name": "python"
    }
  },
  "nbformat": 4,
  "nbformat_minor": 0
}
